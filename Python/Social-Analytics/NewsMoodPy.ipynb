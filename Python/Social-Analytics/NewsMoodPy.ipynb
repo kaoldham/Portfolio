{
 "cells": [
  {
   "cell_type": "markdown",
   "metadata": {},
   "source": [
    "# Analysis"
   ]
  },
  {
   "cell_type": "markdown",
   "metadata": {},
   "source": [
    "- **Observed Trend 1**: CBS tweets tended to be the most positive in sentiment out of all media outlets examined.\n",
    "- **Observed Trend 2**: The New York Times tended to be most neutral in its overall tweet sentiment, though individual tweets sentiment varied greatly.\n",
    "- **Observed Trend 3**: On average, CNN tweets tended to be more negative in sentiment than the other media outlets examined."
   ]
  },
  {
   "cell_type": "markdown",
   "metadata": {},
   "source": [
    "# Getting Started: Importing Dependencies and Data"
   ]
  },
  {
   "cell_type": "code",
   "execution_count": 1,
   "metadata": {},
   "outputs": [],
   "source": [
    "# Dependencies\n",
    "import numpy as np\n",
    "import pandas as pd\n",
    "import matplotlib.pyplot as plt\n",
    "import json\n",
    "import tweepy\n",
    "import time\n",
    "import seaborn as sns\n",
    "import os\n",
    "\n",
    "# Initialize Sentiment Analyzer\n",
    "from vaderSentiment.vaderSentiment import SentimentIntensityAnalyzer\n",
    "analyzer = SentimentIntensityAnalyzer()\n",
    "\n",
    "# Twitter API Keys\n",
    "consumer_key = \"nXvio0VhsbeowkFG262PCz2AV\"\n",
    "consumer_secret = \"UtZRtxvBzSgKYIfaq05upDA327IGispSWJkSNjrImI6Ejytv5N\"\n",
    "access_token = \"944969564483473408-vYoVaLuWm4kSFPIvk7grcGgf99wFTU3\"\n",
    "access_token_secret = \"SjtWXERhQuE8Ict6SlcVLvfN3nieRS7HX652borA4VXTx\"\n",
    "\n",
    "# Setup Tweepy API Authentication\n",
    "auth = tweepy.OAuthHandler(consumer_key, consumer_secret)\n",
    "auth.set_access_token(access_token, access_token_secret)\n",
    "api = tweepy.API(auth, parser=tweepy.parsers.JSONParser())"
   ]
  },
  {
   "cell_type": "code",
   "execution_count": 2,
   "metadata": {},
   "outputs": [],
   "source": [
    "# Target Accounts\n",
    "target_users = ['@BBC', '@CBS', '@CNN', '@FoxNews', '@nytimes']\n",
    "\n",
    "# Array for holding sentiments\n",
    "sentiments = []\n",
    "\n",
    "# Loop through 5 pages of tweets (total 100 tweets) for each target user.\n",
    "for target_user in target_users:\n",
    "    \n",
    "    # Counter\n",
    "    counter = 1\n",
    "\n",
    "    for x in range(5):\n",
    "\n",
    "        # Get all tweets from home feed\n",
    "        public_tweets = api.user_timeline(target_user)\n",
    "        \n",
    "        # Loop through all tweets \n",
    "        for tweet in public_tweets:\n",
    "        \n",
    "            # Run Vader Analysis on each tweet\n",
    "            compound = analyzer.polarity_scores(tweet['text'])['compound']\n",
    "            pos = analyzer.polarity_scores(tweet['text'])['pos']\n",
    "            neu = analyzer.polarity_scores(tweet['text'])['neu']\n",
    "            neg = analyzer.polarity_scores(tweet['text'])['neg']\n",
    "            tweets_ago = counter\n",
    "            \n",
    "            # Add sentiments for each tweet into an array\n",
    "            sentiments.append({'User': tweet['user']['name'],\n",
    "                               'Date': tweet['created_at'],\n",
    "                               'Tweet Text': tweet['text'],\n",
    "                               'Compound': compound,\n",
    "                               'Positive': pos,\n",
    "                               'Negative': neu,\n",
    "                               'Neutral': neg,\n",
    "                               'Tweets Ago': counter})\n",
    "            \n",
    "            counter = counter + 1"
   ]
  },
  {
   "cell_type": "code",
   "execution_count": 3,
   "metadata": {},
   "outputs": [
    {
     "data": {
      "text/html": [
       "<div>\n",
       "<style>\n",
       "    .dataframe thead tr:only-child th {\n",
       "        text-align: right;\n",
       "    }\n",
       "\n",
       "    .dataframe thead th {\n",
       "        text-align: left;\n",
       "    }\n",
       "\n",
       "    .dataframe tbody tr th {\n",
       "        vertical-align: top;\n",
       "    }\n",
       "</style>\n",
       "<table border=\"1\" class=\"dataframe\">\n",
       "  <thead>\n",
       "    <tr style=\"text-align: right;\">\n",
       "      <th></th>\n",
       "      <th>User</th>\n",
       "      <th>Date</th>\n",
       "      <th>Tweet Text</th>\n",
       "      <th>Tweets Ago</th>\n",
       "      <th>Positive</th>\n",
       "      <th>Negative</th>\n",
       "      <th>Neutral</th>\n",
       "      <th>Compound</th>\n",
       "    </tr>\n",
       "  </thead>\n",
       "  <tbody>\n",
       "    <tr>\n",
       "      <th>0</th>\n",
       "      <td>BBC</td>\n",
       "      <td>Sun Dec 24 21:43:10 +0000 2017</td>\n",
       "      <td>Toasters: sworn enemy of the pet cat. \\n\\n#Doo...</td>\n",
       "      <td>1</td>\n",
       "      <td>0.000</td>\n",
       "      <td>0.800</td>\n",
       "      <td>0.200</td>\n",
       "      <td>-0.5423</td>\n",
       "    </tr>\n",
       "    <tr>\n",
       "      <th>1</th>\n",
       "      <td>BBC</td>\n",
       "      <td>Sun Dec 24 20:03:04 +0000 2017</td>\n",
       "      <td>Will you struggle to nod off knowing that Sant...</td>\n",
       "      <td>2</td>\n",
       "      <td>0.000</td>\n",
       "      <td>0.909</td>\n",
       "      <td>0.091</td>\n",
       "      <td>-0.3182</td>\n",
       "    </tr>\n",
       "    <tr>\n",
       "      <th>2</th>\n",
       "      <td>BBC</td>\n",
       "      <td>Sun Dec 24 19:33:04 +0000 2017</td>\n",
       "      <td>Leonardo DiCaprio and Carey Mulligan star in a...</td>\n",
       "      <td>3</td>\n",
       "      <td>0.119</td>\n",
       "      <td>0.881</td>\n",
       "      <td>0.000</td>\n",
       "      <td>0.3182</td>\n",
       "    </tr>\n",
       "    <tr>\n",
       "      <th>3</th>\n",
       "      <td>BBC</td>\n",
       "      <td>Sun Dec 24 19:03:04 +0000 2017</td>\n",
       "      <td>Tonight, @BillBailey, @Seal and @AleshaOfficia...</td>\n",
       "      <td>4</td>\n",
       "      <td>0.378</td>\n",
       "      <td>0.622</td>\n",
       "      <td>0.000</td>\n",
       "      <td>0.7845</td>\n",
       "    </tr>\n",
       "    <tr>\n",
       "      <th>4</th>\n",
       "      <td>BBC</td>\n",
       "      <td>Sun Dec 24 18:57:04 +0000 2017</td>\n",
       "      <td>RT @BBCiPlayer: 🐶  Cuteness alert! @Sukiandthe...</td>\n",
       "      <td>5</td>\n",
       "      <td>0.492</td>\n",
       "      <td>0.508</td>\n",
       "      <td>0.000</td>\n",
       "      <td>0.8655</td>\n",
       "    </tr>\n",
       "  </tbody>\n",
       "</table>\n",
       "</div>"
      ],
      "text/plain": [
       "  User                            Date  \\\n",
       "0  BBC  Sun Dec 24 21:43:10 +0000 2017   \n",
       "1  BBC  Sun Dec 24 20:03:04 +0000 2017   \n",
       "2  BBC  Sun Dec 24 19:33:04 +0000 2017   \n",
       "3  BBC  Sun Dec 24 19:03:04 +0000 2017   \n",
       "4  BBC  Sun Dec 24 18:57:04 +0000 2017   \n",
       "\n",
       "                                          Tweet Text  Tweets Ago  Positive  \\\n",
       "0  Toasters: sworn enemy of the pet cat. \\n\\n#Doo...           1     0.000   \n",
       "1  Will you struggle to nod off knowing that Sant...           2     0.000   \n",
       "2  Leonardo DiCaprio and Carey Mulligan star in a...           3     0.119   \n",
       "3  Tonight, @BillBailey, @Seal and @AleshaOfficia...           4     0.378   \n",
       "4  RT @BBCiPlayer: 🐶  Cuteness alert! @Sukiandthe...           5     0.492   \n",
       "\n",
       "   Negative  Neutral  Compound  \n",
       "0     0.800    0.200   -0.5423  \n",
       "1     0.909    0.091   -0.3182  \n",
       "2     0.881    0.000    0.3182  \n",
       "3     0.622    0.000    0.7845  \n",
       "4     0.508    0.000    0.8655  "
      ]
     },
     "execution_count": 3,
     "metadata": {},
     "output_type": "execute_result"
    }
   ],
   "source": [
    "# Create dataframe from sentiments array\n",
    "sentiments_df = pd.DataFrame.from_dict(sentiments)\n",
    "\n",
    "# Reorder columns\n",
    "sentiments_df = sentiments_df[['User', 'Date', 'Tweet Text', 'Tweets Ago',\n",
    "                               'Positive', 'Negative', 'Neutral', 'Compound']]\n",
    "\n",
    "# Save dataframe as csv for future reference.\n",
    "output_path = os.path.join('output', 'tweet-data_2017-12-24.csv')\n",
    "sentiments_df.to_csv(output_path)\n",
    "\n",
    "# Preview dataframe\n",
    "sentiments_df.head()"
   ]
  },
  {
   "cell_type": "markdown",
   "metadata": {},
   "source": [
    "# Scatter Plot: Media Tweet Polarity Over Time"
   ]
  },
  {
   "cell_type": "markdown",
   "metadata": {},
   "source": [
    "Scatter plot of sentiments of the last 100 tweets sent out by each news organization, ranging from -1.0 to 1.0, where a score of 0 expresses a neutral sentiment, -1 the most negative sentiment possible, and +1 the most positive sentiment possible.\n",
    "Each plot point reflects the compound sentiment of a tweet."
   ]
  },
  {
   "cell_type": "code",
   "execution_count": 4,
   "metadata": {},
   "outputs": [
    {
     "data": {
      "text/plain": [
       "array(['BBC', 'CBS', 'CNN', 'Fox News', 'The New York Times'], dtype=object)"
      ]
     },
     "execution_count": 4,
     "metadata": {},
     "output_type": "execute_result"
    }
   ],
   "source": [
    "# Get list of users as they appear in dataframe\n",
    "sentiments_df['User'].unique()"
   ]
  },
  {
   "cell_type": "code",
   "execution_count": 5,
   "metadata": {},
   "outputs": [],
   "source": [
    "# Create scatter plot for sentiments\n",
    "\n",
    "# Add data to plot for BBC tweets.\n",
    "bbc = plt.scatter(sentiments_df.loc[sentiments_df['User']=='BBC', 'Tweets Ago'],\n",
    "                  sentiments_df.loc[sentiments_df['User']=='BBC', 'Compound'],\n",
    "                  label='BBC', color='skyblue', alpha=.75, edgecolor='black')\n",
    "\n",
    "# Add data to plot for CBS tweets.\n",
    "cbs = plt.scatter(sentiments_df.loc[sentiments_df['User']=='CBS', 'Tweets Ago'],\n",
    "                  sentiments_df.loc[sentiments_df['User']=='CBS', 'Compound'],\n",
    "                  label='CBS', color='seagreen', alpha=.75, edgecolor='black')\n",
    "\n",
    "# Add data to plot for CNN tweets.\n",
    "cnn = plt.scatter(sentiments_df.loc[sentiments_df['User']=='CNN', 'Tweets Ago'],\n",
    "                  sentiments_df.loc[sentiments_df['User']=='CNN', 'Compound'],\n",
    "                  label='CNN', color='r', alpha=.75, edgecolor='black')\n",
    "\n",
    "# Add data to plot for Fox News tweets.\n",
    "fox = plt.scatter(sentiments_df.loc[sentiments_df['User']=='Fox News', 'Tweets Ago'],\n",
    "                  sentiments_df.loc[sentiments_df['User']=='Fox News', 'Compound'],\n",
    "                  label='Fox News', color='b', alpha=.75, edgecolor='black')\n",
    "\n",
    "# Add data to plot for NYT tweets.\n",
    "nyt = plt.scatter(sentiments_df.loc[sentiments_df['User']=='The New York Times', 'Tweets Ago'],\n",
    "                  sentiments_df.loc[sentiments_df['User']=='The New York Times', 'Compound'],\n",
    "                  label='The New York Times', color='gold', alpha=.75, edgecolor='black')\n",
    "\n",
    "# Set x and y limits.\n",
    "plt.xlim(105, -5)\n",
    "plt.ylim(-1.05, 1.05)\n",
    "\n",
    "# Add a legend outside the plot area.\n",
    "legend = plt.legend(handles=[bbc, cbs, cnn, fox, nyt], title='Media Sources',\n",
    "                    bbox_to_anchor=(1, 1))\n",
    "\n",
    "# Add labels to the x and y axes and give the chart a title.\n",
    "plt.xlabel('Tweets Ago')\n",
    "plt.ylabel('Tweet Polarity')\n",
    "plt.title('Sentiment Analysis of Media Tweets (12/24/2017)')\n",
    "\n",
    "# Use seaborn library to set the grid background style.\n",
    "sns.set_style('darkgrid')"
   ]
  },
  {
   "cell_type": "code",
   "execution_count": 6,
   "metadata": {},
   "outputs": [
    {
     "data": {
      "image/png": "[encoded data removed]",
      "text/plain": [
       "<matplotlib.figure.Figure at 0x23115185518>"
      ]
     },
     "metadata": {},
     "output_type": "display_data"
    }
   ],
   "source": [
    "# Save plot to output folder and display\n",
    "output_path = os.path.join('output', 'tweet-sentiment-scatterplot.png')\n",
    "plt.savefig(output_path, dpi=100, bbox_extra_artists=(legend,),bbox_inches='tight')\n",
    "plt.show()"
   ]
  },
  {
   "cell_type": "markdown",
   "metadata": {},
   "source": [
    "# Bar Plot: Media Sentiment by Outlet"
   ]
  },
  {
   "cell_type": "markdown",
   "metadata": {},
   "source": [
    "Bar plot visualizing the overall sentiments of the last 100 tweets from each news organization."
   ]
  },
  {
   "cell_type": "code",
   "execution_count": 7,
   "metadata": {},
   "outputs": [
    {
     "data": {
      "text/html": [
       "<div>\n",
       "<style>\n",
       "    .dataframe thead tr:only-child th {\n",
       "        text-align: right;\n",
       "    }\n",
       "\n",
       "    .dataframe thead th {\n",
       "        text-align: left;\n",
       "    }\n",
       "\n",
       "    .dataframe tbody tr th {\n",
       "        vertical-align: top;\n",
       "    }\n",
       "</style>\n",
       "<table border=\"1\" class=\"dataframe\">\n",
       "  <thead>\n",
       "    <tr style=\"text-align: right;\">\n",
       "      <th></th>\n",
       "      <th>User</th>\n",
       "      <th>Compound</th>\n",
       "    </tr>\n",
       "  </thead>\n",
       "  <tbody>\n",
       "    <tr>\n",
       "      <th>0</th>\n",
       "      <td>BBC</td>\n",
       "      <td>0.181565</td>\n",
       "    </tr>\n",
       "    <tr>\n",
       "      <th>1</th>\n",
       "      <td>CBS</td>\n",
       "      <td>0.565760</td>\n",
       "    </tr>\n",
       "    <tr>\n",
       "      <th>2</th>\n",
       "      <td>CNN</td>\n",
       "      <td>-0.142605</td>\n",
       "    </tr>\n",
       "    <tr>\n",
       "      <th>3</th>\n",
       "      <td>Fox News</td>\n",
       "      <td>0.074960</td>\n",
       "    </tr>\n",
       "    <tr>\n",
       "      <th>4</th>\n",
       "      <td>The New York Times</td>\n",
       "      <td>0.096695</td>\n",
       "    </tr>\n",
       "  </tbody>\n",
       "</table>\n",
       "</div>"
      ],
      "text/plain": [
       "                 User  Compound\n",
       "0                 BBC  0.181565\n",
       "1                 CBS  0.565760\n",
       "2                 CNN -0.142605\n",
       "3            Fox News  0.074960\n",
       "4  The New York Times  0.096695"
      ]
     },
     "execution_count": 7,
     "metadata": {},
     "output_type": "execute_result"
    }
   ],
   "source": [
    "# Group tweets by media outlet\n",
    "grouped_sentiments = pd.DataFrame(sentiments_df.groupby('User')['Compound'].mean()).reset_index()\n",
    "grouped_sentiments.head()"
   ]
  },
  {
   "cell_type": "code",
   "execution_count": 10,
   "metadata": {},
   "outputs": [
    {
     "data": {
      "text/plain": [
       "Text(0.5,1,'Overall Media Sentiment Based on Twitter (12/24/2017)')"
      ]
     },
     "execution_count": 10,
     "metadata": {},
     "output_type": "execute_result"
    }
   ],
   "source": [
    "# Define positions for bars to appear on x-axis.\n",
    "xpos = [0, .8, 1.6, 2.4, 3.2]\n",
    "\n",
    "# Create plot, set bar colors, and set edge colors.\n",
    "plt.bar(xpos, grouped_sentiments['Compound'],\n",
    "        color=['skyblue', 'seagreen', 'r', 'b', 'gold'],\n",
    "        edgecolor=['black']*5)\n",
    "\n",
    "# Add x labels at appropriate locations, rotated 45 degrees.\n",
    "plt.xticks(xpos, grouped_sentiments['User'], rotation=45)\n",
    "\n",
    "# Make plot background area grey\n",
    "sns.set_style('dark')\n",
    "\n",
    "# Set x limits\n",
    "plt.xlim(-.4, 3.61)\n",
    "\n",
    "# Set x- and y-axis labels, add chart title.\n",
    "plt.xlabel('Media Source')\n",
    "plt.ylabel('Tweet Polarity')\n",
    "plt.title('Overall Media Sentiment Based on Twitter (12/24/2017)')"
   ]
  },
  {
   "cell_type": "code",
   "execution_count": 11,
   "metadata": {},
   "outputs": [
    {
     "data": {
      "image/png": "[encoded data removed]",
      "text/plain": [
       "<matplotlib.figure.Figure at 0x231156d89b0>"
      ]
     },
     "metadata": {},
     "output_type": "display_data"
    }
   ],
   "source": [
    "# Save plot and display.\n",
    "output_path = os.path.join('output', 'tweet-sentiment-barplot.png')\n",
    "plt.savefig(output_path, dpi=100,bbox_inches='tight')\n",
    "plt.show()"
   ]
  },
  {
   "cell_type": "code",
   "execution_count": null,
   "metadata": {
    "collapsed": true
   },
   "outputs": [],
   "source": []
  }
 ],
 "metadata": {
  "kernelspec": {
   "display_name": "Python [conda env:PythonData]",
   "language": "python",
   "name": "conda-env-PythonData-py"
  },
  "language_info": {
   "codemirror_mode": {
    "name": "ipython",
    "version": 3
   },
   "file_extension": ".py",
   "mimetype": "text/x-python",
   "name": "python",
   "nbconvert_exporter": "python",
   "pygments_lexer": "ipython3",
   "version": "3.6.3"
  }
 },
 "nbformat": 4,
 "nbformat_minor": 2
}
