{
 "cells": [
  {
   "cell_type": "markdown",
   "metadata": {},
   "source": [
    "# Getting Started: Importing Dependencies and Data"
   ]
  },
  {
   "cell_type": "code",
   "execution_count": 1,
   "metadata": {
    "collapsed": true
   },
   "outputs": [],
   "source": [
    "# Dependencies\n",
    "import pandas as pd\n",
    "import os\n",
    "from datetime import datetime\n",
    "\n",
    "# Imports the method used for connecting to DBs\n",
    "from sqlalchemy import create_engine\n",
    "\n",
    "# Imports the methods needed to abstract classes into tables\n",
    "from sqlalchemy.ext.declarative import declarative_base\n",
    "Base = declarative_base()\n",
    "\n",
    "# Allow us to declare column types\n",
    "from sqlalchemy import Column, Integer, String, Float, DateTime\n",
    "\n",
    "# Imports method for temporarily binding to DBs\n",
    "from sqlalchemy.orm import Session"
   ]
  },
  {
   "cell_type": "code",
   "execution_count": 2,
   "metadata": {
    "collapsed": true
   },
   "outputs": [],
   "source": [
    "# Read in CSVs with cleaned data\n",
    "meas_csv_path = os.path.join('Resources', 'clean_hawaii_measurements.csv')\n",
    "stations_csv_path = os.path.join('Resources', 'hawaii_stations.csv')\n",
    "\n",
    "meas_df = pd.read_csv(meas_csv_path)\n",
    "stations_df = pd.read_csv(stations_csv_path)"
   ]
  },
  {
   "cell_type": "markdown",
   "metadata": {},
   "source": [
    "# Creating a SQLite Database"
   ]
  },
  {
   "cell_type": "code",
   "execution_count": 3,
   "metadata": {
    "collapsed": true
   },
   "outputs": [],
   "source": [
    "# Use the engine and connection string to create a database called hawaii.sqlite\n",
    "engine = create_engine('sqlite:///hawaii.sqlite')\n",
    "conn = engine.connect()"
   ]
  },
  {
   "cell_type": "code",
   "execution_count": 4,
   "metadata": {
    "collapsed": true
   },
   "outputs": [],
   "source": [
    "# Use declarative_base and create ORM classes for each table.\n",
    "# You will need a class for Measurement and for Station.\n",
    "# Make sure to define your primary keys.\n",
    "\n",
    "class Measurement(Base):\n",
    "    __tablename__ = 'measurements'\n",
    "    meas_id = Column(Integer, primary_key=True)\n",
    "    station_id = Column(String(15))\n",
    "    date = Column(DateTime)\n",
    "    precip = Column(Float)\n",
    "    tobs = Column(Float)\n",
    "\n",
    "class Station(Base):\n",
    "    __tablename__ = 'stations'\n",
    "    station_id = Column(String(15), primary_key=True)\n",
    "    name = Column(String(255))\n",
    "    lat = Column(Float)\n",
    "    lon = Column(Float)\n",
    "    elev = Column(Float)"
   ]
  },
  {
   "cell_type": "code",
   "execution_count": 5,
   "metadata": {
    "collapsed": true
   },
   "outputs": [],
   "source": [
    "# Once you have your ORM classes defined, create the\n",
    "# tables in the database using create_all.\n",
    "Base.metadata.create_all(engine)"
   ]
  },
  {
   "cell_type": "code",
   "execution_count": 6,
   "metadata": {
    "collapsed": true
   },
   "outputs": [],
   "source": [
    "# Create a session.\n",
    "session = Session(bind=engine)"
   ]
  },
  {
   "cell_type": "code",
   "execution_count": 7,
   "metadata": {
    "collapsed": true
   },
   "outputs": [],
   "source": [
    "# Add data from measurement CSV to database\n",
    "meas_count = len(meas_df)\n",
    "station_count = len(stations_df)\n",
    "for i in range(0, meas_count-1):\n",
    "    measurement = Measurement(meas_id=i,\n",
    "                              station_id=meas_df.iloc[i]['station'],\n",
    "                              date=datetime.strptime(meas_df.iloc[i]['date'], '%Y-%m-%d'),\n",
    "                              precip=meas_df.iloc[i]['prcp'],\n",
    "                              tobs=meas_df.iloc[i]['tobs'])\n",
    "    session.add(measurement)"
   ]
  },
  {
   "cell_type": "code",
   "execution_count": 8,
   "metadata": {
    "collapsed": true
   },
   "outputs": [],
   "source": [
    "# Add data from stations CSV to database\n",
    "station_count = len(stations_df)\n",
    "for i in range(0, station_count-1):\n",
    "    station = Station(station_id=stations_df.iloc[i]['station'],\n",
    "                      name=stations_df.iloc[i]['name'],\n",
    "                      lat=stations_df.iloc[i]['latitude'],\n",
    "                      lon=stations_df.iloc[i]['longitude'],\n",
    "                      elev=stations_df.iloc[i]['elevation'])\n",
    "    session.add(station)"
   ]
  },
  {
   "cell_type": "code",
   "execution_count": 9,
   "metadata": {
    "collapsed": true
   },
   "outputs": [],
   "source": [
    "# Commit these objects to the database\n",
    "session.commit()"
   ]
  },
  {
   "cell_type": "code",
   "execution_count": null,
   "metadata": {
    "collapsed": true
   },
   "outputs": [],
   "source": []
  }
 ],
 "metadata": {
  "kernelspec": {
   "display_name": "Python [conda env:PythonData]",
   "language": "python",
   "name": "conda-env-PythonData-py"
  },
  "language_info": {
   "codemirror_mode": {
    "name": "ipython",
    "version": 3
   },
   "file_extension": ".py",
   "mimetype": "text/x-python",
   "name": "python",
   "nbconvert_exporter": "python",
   "pygments_lexer": "ipython3",
   "version": "3.6.3"
  }
 },
 "nbformat": 4,
 "nbformat_minor": 2
}
