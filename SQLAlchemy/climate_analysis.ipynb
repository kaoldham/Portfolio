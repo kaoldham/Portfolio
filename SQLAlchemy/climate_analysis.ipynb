{
 "cells": [
  {
   "cell_type": "markdown",
   "metadata": {},
   "source": [
    "# Getting Started: Importing dependencies and data"
   ]
  },
  {
   "cell_type": "code",
   "execution_count": 1,
   "metadata": {
    "collapsed": true
   },
   "outputs": [],
   "source": [
    "# Dependencies\n",
    "import pandas as pd\n",
    "import os\n",
    "from datetime import datetime, date, timedelta\n",
    "import matplotlib.pyplot as plt\n",
    "import seaborn as sns\n",
    "\n",
    "# Imports method used for connecting to DBs\n",
    "from sqlalchemy import create_engine\n",
    "\n",
    "# Import method for reflecting tables into classes.\n",
    "from sqlalchemy.ext.automap import automap_base\n",
    "\n",
    "# Imports method for temporarily binding to DBs\n",
    "from sqlalchemy.orm import Session"
   ]
  },
  {
   "cell_type": "code",
   "execution_count": 2,
   "metadata": {},
   "outputs": [
    {
     "data": {
      "text/plain": [
       "['measurements', 'stations']"
      ]
     },
     "execution_count": 2,
     "metadata": {},
     "output_type": "execute_result"
    }
   ],
   "source": [
    "# Use SQLAlchemy create_engine to connect to your sqlite database.\n",
    "engine = create_engine('sqlite:///hawaii.sqlite')\n",
    "\n",
    "# Use SQLAlchemy automap_base() to reflect your tables into classes.\n",
    "Base = automap_base()\n",
    "\n",
    "# Use the Base class to reflect the database tables\n",
    "Base.prepare(engine, reflect=True)\n",
    "\n",
    "# Print all of the classes mapped to the Base\n",
    "Base.classes.keys()"
   ]
  },
  {
   "cell_type": "code",
   "execution_count": 3,
   "metadata": {
    "collapsed": true
   },
   "outputs": [],
   "source": [
    "# Save references to the Station and Measurement classes.\n",
    "Measurement = Base.classes.measurements\n",
    "Station = Base.classes.stations"
   ]
  },
  {
   "cell_type": "code",
   "execution_count": 4,
   "metadata": {
    "collapsed": true
   },
   "outputs": [],
   "source": [
    "# Create a session\n",
    "session = Session(engine)"
   ]
  },
  {
   "cell_type": "markdown",
   "metadata": {},
   "source": [
    "# Precipitation Analysis"
   ]
  },
  {
   "cell_type": "code",
   "execution_count": 5,
   "metadata": {
    "collapsed": true
   },
   "outputs": [],
   "source": [
    "# Design a query to retrieve the last 12 months of precipitation data.\n",
    "begin_date = date.today() - timedelta(days=365)\n",
    "\n",
    "precip_12mo_query = session.query(Measurement).filter(Measurement.date>=begin_date)"
   ]
  },
  {
   "cell_type": "code",
   "execution_count": 6,
   "metadata": {
    "collapsed": true
   },
   "outputs": [],
   "source": [
    "# Select only the date and prcp values.\n",
    "# Load the query results into a Pandas DataFrame and \n",
    "# set the index to the date column.\n",
    "\n",
    "# Initiating an empty list to hold precip data.\n",
    "precip_meas = []\n",
    "precip_dates = []\n",
    "\n",
    "# Looping through each of the records from the past\n",
    "# year and appending data to lists.\n",
    "for record in precip_12mo_query:\n",
    "    precip_meas.append(record.precip)\n",
    "    precip_dates.append(record.date)\n",
    "\n",
    "# Create a dataframe to hold precip and date data.\n",
    "precip_df = pd.DataFrame(data={\"Date\":precip_dates,\n",
    "                                  \"Precipitation\":precip_meas})"
   ]
  },
  {
   "cell_type": "code",
   "execution_count": 7,
   "metadata": {},
   "outputs": [
    {
     "data": {
      "text/html": [
       "<div>\n",
       "<style>\n",
       "    .dataframe thead tr:only-child th {\n",
       "        text-align: right;\n",
       "    }\n",
       "\n",
       "    .dataframe thead th {\n",
       "        text-align: left;\n",
       "    }\n",
       "\n",
       "    .dataframe tbody tr th {\n",
       "        vertical-align: top;\n",
       "    }\n",
       "</style>\n",
       "<table border=\"1\" class=\"dataframe\">\n",
       "  <thead>\n",
       "    <tr style=\"text-align: right;\">\n",
       "      <th></th>\n",
       "      <th>Date</th>\n",
       "      <th>Precipitation</th>\n",
       "    </tr>\n",
       "  </thead>\n",
       "  <tbody>\n",
       "    <tr>\n",
       "      <th>0</th>\n",
       "      <td>2017-02-03</td>\n",
       "      <td>0.00</td>\n",
       "    </tr>\n",
       "    <tr>\n",
       "      <th>1</th>\n",
       "      <td>2017-02-04</td>\n",
       "      <td>0.00</td>\n",
       "    </tr>\n",
       "    <tr>\n",
       "      <th>2</th>\n",
       "      <td>2017-02-05</td>\n",
       "      <td>0.00</td>\n",
       "    </tr>\n",
       "    <tr>\n",
       "      <th>3</th>\n",
       "      <td>2017-02-06</td>\n",
       "      <td>0.00</td>\n",
       "    </tr>\n",
       "    <tr>\n",
       "      <th>4</th>\n",
       "      <td>2017-02-07</td>\n",
       "      <td>0.51</td>\n",
       "    </tr>\n",
       "  </tbody>\n",
       "</table>\n",
       "</div>"
      ],
      "text/plain": [
       "        Date  Precipitation\n",
       "0 2017-02-03           0.00\n",
       "1 2017-02-04           0.00\n",
       "2 2017-02-05           0.00\n",
       "3 2017-02-06           0.00\n",
       "4 2017-02-07           0.51"
      ]
     },
     "execution_count": 7,
     "metadata": {},
     "output_type": "execute_result"
    }
   ],
   "source": [
    "# Preview precip_df\n",
    "precip_df.head()"
   ]
  },
  {
   "cell_type": "code",
   "execution_count": 18,
   "metadata": {},
   "outputs": [
    {
     "data": {
      "image/png": "[encoded data removed]",
      "text/plain": [
       "<matplotlib.figure.Figure at 0x29d9003a978>"
      ]
     },
     "metadata": {},
     "output_type": "display_data"
    }
   ],
   "source": [
    "# Plot the precip results using the DataFrame plot method.\n",
    "plt.bar(precip_df['Date'], precip_df['Precipitation'],\n",
    "            color='dodgerblue', edgecolor='black',\n",
    "            alpha=.75, width=3)\n",
    "\n",
    "# Display x-axis tick labels at 45 degree angle.\n",
    "plt.xticks(rotation=45)\n",
    "\n",
    "# Label chart x- and y-axes and give it a title.\n",
    "plt.title('Precipitation in Hawaii Over Time')\n",
    "plt.xlabel('Date')\n",
    "plt.ylabel('Precipitation')\n",
    "\n",
    "# Set chart area to dark grid style.\n",
    "sns.set_style('darkgrid')\n",
    "\n",
    "# Save plot to output folder and display\n",
    "output_path = os.path.join('output', 'precip_barchart.png')\n",
    "plt.savefig(output_path, dpi=200)\n",
    "plt.show()"
   ]
  },
  {
   "cell_type": "code",
   "execution_count": 9,
   "metadata": {},
   "outputs": [
    {
     "data": {
      "text/plain": [
       "count    1082.000000\n",
       "mean        0.182837\n",
       "std         0.476685\n",
       "min         0.000000\n",
       "25%         0.000000\n",
       "50%         0.010000\n",
       "75%         0.127500\n",
       "max         6.250000\n",
       "Name: Precipitation, dtype: float64"
      ]
     },
     "execution_count": 9,
     "metadata": {},
     "output_type": "execute_result"
    }
   ],
   "source": [
    "# Use Pandas to print the summary statistics for\n",
    "# the precipitation data.\n",
    "precip_df['Precipitation'].describe()"
   ]
  },
  {
   "cell_type": "markdown",
   "metadata": {},
   "source": [
    "# Station Analysis"
   ]
  },
  {
   "cell_type": "markdown",
   "metadata": {},
   "source": [
    "## 1) Asses which station has the highest number of observations."
   ]
  },
  {
   "cell_type": "code",
   "execution_count": 10,
   "metadata": {
    "collapsed": true
   },
   "outputs": [],
   "source": [
    "# Design a query to calculate the total number of stations.\n",
    "station_count = session.query(Station).count()"
   ]
  },
  {
   "cell_type": "code",
   "execution_count": 11,
   "metadata": {
    "collapsed": true
   },
   "outputs": [],
   "source": [
    "# Design a query to find the most active stations.\n",
    "meas_count_query = session.query(Measurement)\n",
    "stations_query = session.query(Station)\n",
    "\n",
    "precip_stations = []\n",
    "tobs = []\n",
    "dates = []\n",
    "station_ids = []\n",
    "station_names = []\n",
    "\n",
    "for record in meas_count_query:\n",
    "    precip_stations.append(record.station_id)\n",
    "    tobs.append(record.tobs)\n",
    "    dates.append(record.date)\n",
    "\n",
    "measurements_df = pd.DataFrame(data={'station_id':precip_stations,\n",
    "                                          'tobs':tobs,\n",
    "                                          'date':dates})\n",
    "\n",
    "for record in stations_query:\n",
    "    station_ids.append(record.station_id)\n",
    "    station_names.append(record.name)\n",
    "\n",
    "stations_df = pd.DataFrame(data={'station_id':station_ids,\n",
    "                                 'Station Name':station_names})"
   ]
  },
  {
   "cell_type": "code",
   "execution_count": 12,
   "metadata": {},
   "outputs": [
    {
     "data": {
      "text/html": [
       "<div>\n",
       "<style>\n",
       "    .dataframe thead tr:only-child th {\n",
       "        text-align: right;\n",
       "    }\n",
       "\n",
       "    .dataframe thead th {\n",
       "        text-align: left;\n",
       "    }\n",
       "\n",
       "    .dataframe tbody tr th {\n",
       "        vertical-align: top;\n",
       "    }\n",
       "</style>\n",
       "<table border=\"1\" class=\"dataframe\">\n",
       "  <thead>\n",
       "    <tr style=\"text-align: right;\">\n",
       "      <th></th>\n",
       "      <th>station_id</th>\n",
       "      <th>obs_count</th>\n",
       "      <th>Station Name</th>\n",
       "    </tr>\n",
       "  </thead>\n",
       "  <tbody>\n",
       "    <tr>\n",
       "      <th>5</th>\n",
       "      <td>USC00519281</td>\n",
       "      <td>2772</td>\n",
       "      <td>WAIHEE 837.5, HI US</td>\n",
       "    </tr>\n",
       "    <tr>\n",
       "      <th>1</th>\n",
       "      <td>USC00513117</td>\n",
       "      <td>2696</td>\n",
       "      <td>KANEOHE 838.1, HI US</td>\n",
       "    </tr>\n",
       "    <tr>\n",
       "      <th>6</th>\n",
       "      <td>USC00519397</td>\n",
       "      <td>2685</td>\n",
       "      <td>WAIKIKI 717.2, HI US</td>\n",
       "    </tr>\n",
       "    <tr>\n",
       "      <th>7</th>\n",
       "      <td>USC00519523</td>\n",
       "      <td>2572</td>\n",
       "      <td>WAIMANALO EXPERIMENTAL FARM, HI US</td>\n",
       "    </tr>\n",
       "    <tr>\n",
       "      <th>2</th>\n",
       "      <td>USC00514830</td>\n",
       "      <td>1937</td>\n",
       "      <td>KUALOA RANCH HEADQUARTERS 886.9, HI US</td>\n",
       "    </tr>\n",
       "    <tr>\n",
       "      <th>0</th>\n",
       "      <td>USC00511918</td>\n",
       "      <td>1932</td>\n",
       "      <td>HONOLULU OBSERVATORY 702.2, HI US</td>\n",
       "    </tr>\n",
       "    <tr>\n",
       "      <th>3</th>\n",
       "      <td>USC00517948</td>\n",
       "      <td>683</td>\n",
       "      <td>PEARL CITY, HI US</td>\n",
       "    </tr>\n",
       "    <tr>\n",
       "      <th>4</th>\n",
       "      <td>USC00518838</td>\n",
       "      <td>342</td>\n",
       "      <td>UPPER WAHIAWA 874.3, HI US</td>\n",
       "    </tr>\n",
       "  </tbody>\n",
       "</table>\n",
       "</div>"
      ],
      "text/plain": [
       "    station_id  obs_count                            Station Name\n",
       "5  USC00519281       2772                     WAIHEE 837.5, HI US\n",
       "1  USC00513117       2696                    KANEOHE 838.1, HI US\n",
       "6  USC00519397       2685                    WAIKIKI 717.2, HI US\n",
       "7  USC00519523       2572      WAIMANALO EXPERIMENTAL FARM, HI US\n",
       "2  USC00514830       1937  KUALOA RANCH HEADQUARTERS 886.9, HI US\n",
       "0  USC00511918       1932       HONOLULU OBSERVATORY 702.2, HI US\n",
       "3  USC00517948        683                       PEARL CITY, HI US\n",
       "4  USC00518838        342              UPPER WAHIAWA 874.3, HI US"
      ]
     },
     "execution_count": 12,
     "metadata": {},
     "output_type": "execute_result"
    }
   ],
   "source": [
    "# List the stations and observation counts in descending order\n",
    "grouped_measurements = pd.DataFrame(measurements_df.\\\n",
    "                                    groupby('station_id')['station_id'].\\\n",
    "                                    count())\n",
    "grouped_measurements = grouped_measurements.rename(columns=\n",
    "                                                   {'station_id':'obs_count'}).\\\n",
    "                                                   reset_index()\n",
    "grouped_measurements = pd.merge(grouped_measurements,\n",
    "                                stations_df,\n",
    "                                on='station_id')\\\n",
    "                                .sort_values('obs_count',ascending=False)\n",
    "grouped_measurements"
   ]
  },
  {
   "cell_type": "markdown",
   "metadata": {},
   "source": [
    "Station USC00519281 (Waihee 837.5, HI US) has the highest number of observations."
   ]
  },
  {
   "cell_type": "markdown",
   "metadata": {},
   "source": [
    "### 2) Create a histogram of observed temperature frequency at the station with the most observations."
   ]
  },
  {
   "cell_type": "code",
   "execution_count": 13,
   "metadata": {},
   "outputs": [],
   "source": [
    "# Design a query to retrieve the last 12 months of\n",
    "# temperature observation data (tobs). Filter by the\n",
    "# station with the highest number of observations.\n",
    "\n",
    "temps_query = session.query(Measurement).filter(Measurement.date>=begin_date,\n",
    "                                                Measurement.station_id==grouped_measurements.iloc[0]['station_id'])\n",
    "temps = []\n",
    "temp_stations = []\n",
    "for record in temps_query:\n",
    "    temps.append(record.tobs)\n",
    "    temp_stations.append(record.station_id)\n",
    "\n",
    "# Create a dataframe to hold temps and station IDs.\n",
    "temp_df = pd.DataFrame(data={\"station_id\":temp_stations,\n",
    "                                  \"Observed Temperature\":temps})"
   ]
  },
  {
   "cell_type": "code",
   "execution_count": 14,
   "metadata": {},
   "outputs": [
    {
     "data": {
      "image/png": "[encoded data removed]",
      "text/plain": [
       "<matplotlib.figure.Figure at 0x29d90082b38>"
      ]
     },
     "metadata": {},
     "output_type": "display_data"
    }
   ],
   "source": [
    "# Plot the results as a histogram with bins=12.\n",
    "plt.hist(temp_df['Observed Temperature'], bins=12,\n",
    "         color='dodgerblue',edgecolor='black',\n",
    "         alpha=.7)\n",
    "\n",
    "# Set chart title, x-label, and y-label.\n",
    "plt.title('Observed Temperature Frequency at '\n",
    "          + grouped_measurements.iloc[0]['Station Name'])\n",
    "plt.xlabel('Temperature (°F)')\n",
    "plt.ylabel('Frequency')\n",
    "\n",
    "# Save plot to output folder and display\n",
    "output_path = os.path.join('output', 'temp_histogram.png')\n",
    "plt.savefig(output_path, dpi=200)\n",
    "plt.show()"
   ]
  },
  {
   "cell_type": "markdown",
   "metadata": {},
   "source": [
    "# Temperature Analysis"
   ]
  },
  {
   "cell_type": "markdown",
   "metadata": {},
   "source": [
    "### 1) Write a Temperature Function"
   ]
  },
  {
   "cell_type": "markdown",
   "metadata": {},
   "source": [
    "Write a function called calc_temps that will accept a start date and end date in the format %Y-%m-%d and return the minimum, average, and maximum temperatures for that range of dates."
   ]
  },
  {
   "cell_type": "code",
   "execution_count": 15,
   "metadata": {
    "collapsed": true
   },
   "outputs": [],
   "source": [
    "def calc_temps(start_date, end_date):\n",
    "    \n",
    "    # Convert string input into date object.\n",
    "    start_date = datetime.strptime(start_date, '%Y-%m-%d')\n",
    "    end_date = datetime.strptime(end_date, '%Y-%m-%d')\n",
    "    \n",
    "    # Run a query filtering by the start and end date.\n",
    "    temp_function_query = session.query(Measurement).\\\n",
    "            filter(Measurement.date>=start_date,\n",
    "                   Measurement.date<=end_date)\n",
    "        \n",
    "    # Initiate empty lists to hold records' info\n",
    "    obs_temps = []\n",
    "    temp_function_stations = []\n",
    "    temp_function_date = []\n",
    "    for record in temp_function_query:\n",
    "        obs_temps.append(record.tobs)\n",
    "        # Including station ID and date if I decide to build on this\n",
    "        # and return more info than just the temperatures.\n",
    "        temp_function_stations.append(record.station_id)\n",
    "        temp_function_date.append(record.date)\n",
    "    \n",
    "    # Convert lists to pandas dataframe so we can use min, max, mean functions.\n",
    "    temp_function_df = pd.DataFrame(data={'station_id':temp_function_stations,\n",
    "                                         'Observed Temperature':obs_temps,\n",
    "                                         'Date':temp_function_date})\n",
    "    \n",
    "    # Return a dictionary containing the min, avg, and max temps for the date range.\n",
    "    return {'Minimum Temperature': temp_function_df['Observed Temperature'].min(),\n",
    "            'Average Temperature': temp_function_df['Observed Temperature'].mean(),\n",
    "            'Maximum Temperature': temp_function_df['Observed Temperature'].max()}"
   ]
  },
  {
   "cell_type": "markdown",
   "metadata": {},
   "source": [
    "### 2) Use the Temperature Function:"
   ]
  },
  {
   "cell_type": "markdown",
   "metadata": {},
   "source": [
    "Use the calc_temps function to calculate the min, avg, and max temperatures for your trip using the matching dates from the previous year (i.e. use \"2017-01-01\" if your trip start date was \"2018-01-01\")"
   ]
  },
  {
   "cell_type": "code",
   "execution_count": 16,
   "metadata": {},
   "outputs": [
    {
     "data": {
      "text/plain": [
       "{'Average Temperature': 77.58181818181818,\n",
       " 'Maximum Temperature': 82.0,\n",
       " 'Minimum Temperature': 69.0}"
      ]
     },
     "execution_count": 16,
     "metadata": {},
     "output_type": "execute_result"
    }
   ],
   "source": [
    "# My trip dates = July 1-11, 2018.\n",
    "trip_temps = calc_temps('2017-07-01', '2017-07-11')\n",
    "trip_temps"
   ]
  },
  {
   "cell_type": "markdown",
   "metadata": {},
   "source": [
    "### 3) Make a Bar Chart"
   ]
  },
  {
   "cell_type": "markdown",
   "metadata": {},
   "source": [
    "Plot the min, avg, and max temperature from your previous query as a bar chart.\n",
    "- Use the average temperature as the bar height.\n",
    "- Use the peak-to-peak (tmax-tmin) value as the y error bar (yerr)."
   ]
  },
  {
   "cell_type": "code",
   "execution_count": 17,
   "metadata": {},
   "outputs": [
    {
     "data": {
      "image/png": "[encoded data removed]",
      "text/plain": [
       "<matplotlib.figure.Figure at 0x29d9130add8>"
      ]
     },
     "metadata": {},
     "output_type": "display_data"
    }
   ],
   "source": [
    "max_temp = trip_temps['Maximum Temperature']\n",
    "min_temp = trip_temps['Minimum Temperature']\n",
    "avg_temp = trip_temps['Average Temperature']\n",
    "\n",
    "# Set the size of the error bar\n",
    "error_bar = max_temp - min_temp\n",
    "\n",
    "# Set the figure dimensions (w x h in inches)\n",
    "plt.figure(figsize=(3, 6))\n",
    "\n",
    "# Create the bar chart\n",
    "plt.bar(x='', height=avg_temp, width=1,\n",
    "        yerr=error_bar, color='lightsalmon',\n",
    "        alpha=.7)\n",
    "\n",
    "# Set the x-limits to create padding around the bar.\n",
    "plt.xlim(-.75,.75)\n",
    "\n",
    "# Set the title and y-label.\n",
    "plt.title('Trip Average Temperature')\n",
    "plt.ylabel('Temperature (°F)')\n",
    "\n",
    "# Save plot to output folder and display\n",
    "output_path = os.path.join('output', 'trip_temps_barchart.png')\n",
    "plt.savefig(output_path, dpi=200)\n",
    "plt.show()"
   ]
  },
  {
   "cell_type": "code",
   "execution_count": null,
   "metadata": {
    "collapsed": true
   },
   "outputs": [],
   "source": []
  }
 ],
 "metadata": {
  "kernelspec": {
   "display_name": "Python [conda env:PythonData]",
   "language": "python",
   "name": "conda-env-PythonData-py"
  },
  "language_info": {
   "codemirror_mode": {
    "name": "ipython",
    "version": 3
   },
   "file_extension": ".py",
   "mimetype": "text/x-python",
   "name": "python",
   "nbconvert_exporter": "python",
   "pygments_lexer": "ipython3",
   "version": "3.6.3"
  }
 },
 "nbformat": 4,
 "nbformat_minor": 2
}
